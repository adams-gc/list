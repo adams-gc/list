{
 "cells": [
  {
   "cell_type": "code",
   "execution_count": 4,
   "id": "468b06a3",
   "metadata": {},
   "outputs": [
    {
     "name": "stdout",
     "output_type": "stream",
     "text": [
      "apple 1 cat dj "
     ]
    }
   ],
   "source": [
    "a=['apple',1,'cat','dj']\n",
    "for item in a:\n",
    "    print(item,end=\" \")"
   ]
  },
  {
   "cell_type": "code",
   "execution_count": 5,
   "id": "a42660bc",
   "metadata": {},
   "outputs": [],
   "source": [
    "# create list\n",
    "# used function\n",
    "# append()\n",
    "# insert()\n",
    "#extend()"
   ]
  },
  {
   "cell_type": "code",
   "execution_count": 12,
   "id": "516bedd3",
   "metadata": {},
   "outputs": [
    {
     "name": "stdout",
     "output_type": "stream",
     "text": [
      "enter int:2\n",
      "enter x=3\n",
      "enter x=1\n",
      "[3, 1]\n"
     ]
    }
   ],
   "source": [
    "l=[]\n",
    "n=int(input('enter int:'))\n",
    "for item in range(n):\n",
    "    x= int(input('enter x='))\n",
    "    l.append(x)\n",
    "print(l)    "
   ]
  },
  {
   "cell_type": "code",
   "execution_count": 18,
   "id": "dd0d8053",
   "metadata": {},
   "outputs": [
    {
     "name": "stdout",
     "output_type": "stream",
     "text": [
      "1\n",
      "3\n",
      "4\n",
      "average= 2.0\n",
      "[1, 3]\n",
      "[3, 1]\n"
     ]
    }
   ],
   "source": [
    "# all are the fun used in \n",
    "print(min(l))\n",
    "print(max(l))\n",
    "print(sum(l))\n",
    "print('average=',sum(l)/n)\n",
    "l.sort()\n",
    "print(l)\n",
    "l.reverse()\n",
    "print(l)"
   ]
  },
  {
   "cell_type": "code",
   "execution_count": 24,
   "id": "e0ea379a",
   "metadata": {},
   "outputs": [
    {
     "name": "stdout",
     "output_type": "stream",
     "text": [
      "enter for the loop2\n",
      "enterr the daata alphabetdj\n",
      "enterr the daata alphabetgc\n",
      "['dj', 'gc'] "
     ]
    }
   ],
   "source": [
    "l=[]\n",
    "n=int(input('enter for the loop'))\n",
    "for i in range(n):\n",
    "    x=input('enterr the daata alphabet')\n",
    "    l.append(x)\n",
    "print(l, end=' ')    "
   ]
  },
  {
   "cell_type": "code",
   "execution_count": 25,
   "id": "e0646358",
   "metadata": {},
   "outputs": [
    {
     "name": "stdout",
     "output_type": "stream",
     "text": [
      "['dj', 'gc']\n"
     ]
    }
   ],
   "source": [
    "l.sort()\n",
    "print(l)\n"
   ]
  },
  {
   "cell_type": "code",
   "execution_count": 28,
   "id": "18ca5ee9",
   "metadata": {},
   "outputs": [
    {
     "name": "stdout",
     "output_type": "stream",
     "text": [
      "['apple', 'apple', 1, 3, 'dj']\n"
     ]
    }
   ],
   "source": [
    "# insert():add element according to specific position\n",
    "a=['apple',1,3,'dj']\n",
    "a.insert(1,'apple')\n",
    "print(a)"
   ]
  },
  {
   "cell_type": "code",
   "execution_count": 27,
   "id": "bfa960df",
   "metadata": {},
   "outputs": [
    {
     "name": "stdout",
     "output_type": "stream",
     "text": [
      "['apple', 'apple', 1, 3, 'dj', 1, 2, 3, 4]\n"
     ]
    }
   ],
   "source": [
    "b=[1,2,3,4]\n",
    "a.extend(b)# for multiple data add at the end\n",
    "print(a)"
   ]
  },
  {
   "cell_type": "code",
   "execution_count": 31,
   "id": "9feb411e",
   "metadata": {},
   "outputs": [
    {
     "data": {
      "text/plain": [
       "['apple', 'apple', 1, 'djg', 'dj']"
      ]
     },
     "execution_count": 31,
     "metadata": {},
     "output_type": "execute_result"
    }
   ],
   "source": [
    "# update(): just \n",
    "a[3]='djg'\n",
    "a"
   ]
  },
  {
   "cell_type": "code",
   "execution_count": 37,
   "id": "51b31cf9",
   "metadata": {},
   "outputs": [
    {
     "data": {
      "text/plain": [
       "[1, ['gc', 'pk'], 3, 4, 5, 'dj']"
      ]
     },
     "execution_count": 37,
     "metadata": {},
     "output_type": "execute_result"
    }
   ],
   "source": [
    "a=[1,2,3,4,5,'dj']\n",
    "a[1]=['gc','pk']\n",
    "a\n",
    "a[1:2]\n",
    "a\n"
   ]
  },
  {
   "cell_type": "code",
   "execution_count": 35,
   "id": "d028db0a",
   "metadata": {},
   "outputs": [
    {
     "data": {
      "text/plain": [
       "[1, ['gc', 'pk'], 3, 4, 5, 'dj']"
      ]
     },
     "execution_count": 35,
     "metadata": {},
     "output_type": "execute_result"
    }
   ],
   "source": [
    "a[1:0]\n",
    "a"
   ]
  },
  {
   "cell_type": "code",
   "execution_count": 39,
   "id": "0c891394",
   "metadata": {},
   "outputs": [
    {
     "data": {
      "text/plain": [
       "[2, 3, 4, 5, 'dj']"
      ]
     },
     "execution_count": 39,
     "metadata": {},
     "output_type": "execute_result"
    }
   ],
   "source": [
    "#delete() delet fpor each especific position data\n",
    "# del remove() pop()\n",
    "a=[1,2,3,4,5,'dj']\n",
    "del a[0:1] # delet the o to position 1 element\n",
    "a"
   ]
  },
  {
   "cell_type": "code",
   "execution_count": 42,
   "id": "365c6df1",
   "metadata": {},
   "outputs": [
    {
     "data": {
      "text/plain": [
       "[3, 4, 5]"
      ]
     },
     "execution_count": 42,
     "metadata": {},
     "output_type": "execute_result"
    }
   ],
   "source": [
    "a.remove('dj')\n",
    "a"
   ]
  },
  {
   "cell_type": "code",
   "execution_count": 46,
   "id": "033c61c1",
   "metadata": {},
   "outputs": [
    {
     "name": "stdout",
     "output_type": "stream",
     "text": [
      "2 [1, 3, 5, 'dj']\n"
     ]
    }
   ],
   "source": [
    "# for delet duplicate all data at atime\n",
    "a=['apple',1,3,5,\"dj\",'apple']\n",
    "c=a.count('apple')\n",
    "print(c,end=' ')\n",
    "for i in range(c):\n",
    "    a.remove('apple')\n",
    "print(a)    "
   ]
  },
  {
   "cell_type": "code",
   "execution_count": 48,
   "id": "0ebff8c4",
   "metadata": {},
   "outputs": [
    {
     "name": "stdout",
     "output_type": "stream",
     "text": [
      "0 1\n",
      "1 3\n",
      "2 5\n",
      "3 dj\n"
     ]
    }
   ],
   "source": [
    "l=len(a)\n",
    "for i in range(l):\n",
    "    print(i,a[i])# for "
   ]
  },
  {
   "cell_type": "code",
   "execution_count": 49,
   "id": "788d9058",
   "metadata": {},
   "outputs": [
    {
     "name": "stdout",
     "output_type": "stream",
     "text": [
      "1\n",
      "5\n",
      "8\n"
     ]
    }
   ],
   "source": [
    "# for print index value of data\n",
    "a=[1,'dj',2,3,4,'dj','6','7','dj']\n",
    "l=len(a)\n",
    "for i in range(l):\n",
    "    if a[i]=='dj':# for print dj in stander position\n",
    "        print(i)\n"
   ]
  },
  {
   "cell_type": "code",
   "execution_count": 52,
   "id": "781395a8",
   "metadata": {},
   "outputs": [
    {
     "data": {
      "text/plain": [
       "[1, 'dj', 2, 3, 4, 'dj', '6', '7']"
      ]
     },
     "execution_count": 52,
     "metadata": {},
     "output_type": "execute_result"
    }
   ],
   "source": [
    "# pop()\n",
    "a=[1,'dj',2,3,4,'dj','6','7','dj']\n",
    "a.pop()\n",
    "a"
   ]
  },
  {
   "cell_type": "code",
   "execution_count": 54,
   "id": "d4fd35fe",
   "metadata": {},
   "outputs": [
    {
     "data": {
      "text/plain": [
       "[1, 'dj', 4, 'dj', '6', '7']"
      ]
     },
     "execution_count": 54,
     "metadata": {},
     "output_type": "execute_result"
    }
   ],
   "source": [
    "a.pop(2) # for pop the index 2 element only take the  position of list element it cannnt take ster like :a.pop(str) i.e not liggle\n",
    "a"
   ]
  },
  {
   "cell_type": "code",
   "execution_count": 1,
   "id": "cf8aa1e4",
   "metadata": {},
   "outputs": [
    {
     "name": "stdout",
     "output_type": "stream",
     "text": [
      "hello dj\n"
     ]
    }
   ],
   "source": [
    "print('hello dj')"
   ]
  },
  {
   "cell_type": "code",
   "execution_count": null,
   "id": "f31a720e",
   "metadata": {},
   "outputs": [],
   "source": []
  }
 ],
 "metadata": {
  "kernelspec": {
   "display_name": "Python 3 (ipykernel)",
   "language": "python",
   "name": "python3"
  },
  "language_info": {
   "codemirror_mode": {
    "name": "ipython",
    "version": 3
   },
   "file_extension": ".py",
   "mimetype": "text/x-python",
   "name": "python",
   "nbconvert_exporter": "python",
   "pygments_lexer": "ipython3",
   "version": "3.9.13"
  }
 },
 "nbformat": 4,
 "nbformat_minor": 5
}
